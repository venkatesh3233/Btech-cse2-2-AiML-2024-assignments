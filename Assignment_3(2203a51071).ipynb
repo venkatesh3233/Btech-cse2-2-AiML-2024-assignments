{
  "nbformat": 4,
  "nbformat_minor": 0,
  "metadata": {
    "colab": {
      "provenance": []
    },
    "kernelspec": {
      "name": "python3",
      "display_name": "Python 3"
    },
    "language_info": {
      "name": "python"
    }
  },
  "cells": [
    {
      "cell_type": "code",
      "execution_count": 5,
      "metadata": {
        "id": "RWUhTwBD0TIP",
        "colab": {
          "base_uri": "https://localhost:8080/"
        },
        "outputId": "d7cd2df2-0fbf-465f-ba25-20ce3a14bcf8"
      },
      "outputs": [
        {
          "output_type": "stream",
          "name": "stdout",
          "text": [
            "The value of the root node A after applying Min-Max is 4\n"
          ]
        }
      ],
      "source": [
        "\n",
        "tree = {\n",
        "    'A': {'B': {'D': {'H': -1, 'I': 4}, 'E': {'J': 2, 'K': 6}},\n",
        "          'C': {'F': {'L': -3, 'M': -5}, 'G': {'N': 0, 'O': 7}}\n",
        "         }\n",
        "}\n",
        "\n",
        "def min_max(node, maximizing_player=True):\n",
        "    if type(node) is not dict:\n",
        "        return node\n",
        "    if maximizing_player:\n",
        "        return max(min_max(child, False) for child in node.values())\n",
        "    else:\n",
        "        return min(min_max(child, True) for child in node.values())\n",
        "\n",
        "result = min_max(tree['A'])\n",
        "print(f\"The value of the root node A after applying Min-Max is {result}\")"
      ]
    },
    {
      "cell_type": "code",
      "source": [
        "\n",
        "tree = {\n",
        "    'A': {'B': {'D': {'H': -1, 'I': 4}, 'E': {'J': 2, 'K': 6}},\n",
        "          'C': {'F': {'L': -3, 'M': -5}, 'G': {'N': 0, 'O': 7}}\n",
        "         }\n",
        "}\n",
        "\n",
        "def alpha_beta(node, alpha, beta, maximizing_player=True):\n",
        "    if type(node) is not dict:\n",
        "        return node\n",
        "    if maximizing_player:\n",
        "        max_val = float('-inf')\n",
        "        for child in node.values():\n",
        "            value = alpha_beta(child, alpha, beta, False)\n",
        "            max_val = max(max_val, value)\n",
        "            alpha = max(alpha, value)\n",
        "            if beta <= alpha:\n",
        "                break\n",
        "        return max_val\n",
        "    else:\n",
        "        min_val = float('inf')\n",
        "        for child in node.values():\n",
        "            value = alpha_beta(child, alpha, beta, True)\n",
        "            min_val = min(min_val, value)\n",
        "            beta = min(beta, value)\n",
        "            if beta <= alpha:\n",
        "                break\n",
        "        return min_val\n",
        "\n",
        "result = alpha_beta(tree['A'], float('-inf'), float('inf'))\n",
        "print(f\"The value of the root node A after applying Alpha-Beta pruning is {result}\")"
      ],
      "metadata": {
        "colab": {
          "base_uri": "https://localhost:8080/"
        },
        "id": "BOxRv6ZsKQeV",
        "outputId": "7c964dc3-5f59-42dc-d84a-e31de29e2dc7"
      },
      "execution_count": 4,
      "outputs": [
        {
          "output_type": "stream",
          "name": "stdout",
          "text": [
            "The value of the root node A after applying Alpha-Beta pruning is 4\n"
          ]
        }
      ]
    }
  ]
}