{
  "nbformat": 4,
  "nbformat_minor": 0,
  "metadata": {
    "colab": {
      "provenance": []
    },
    "kernelspec": {
      "name": "python3",
      "display_name": "Python 3"
    },
    "language_info": {
      "name": "python"
    }
  },
  "cells": [
    {
      "cell_type": "code",
      "execution_count": 4,
      "metadata": {
        "colab": {
          "base_uri": "https://localhost:8080/"
        },
        "id": "MRpZfTzY-ecZ",
        "outputId": "ce103823-bb03-4cb1-ce8b-c7e350e22cb0"
      },
      "outputs": [
        {
          "output_type": "stream",
          "name": "stdout",
          "text": [
            "   longitude  latitude  housing_median_age  total_rooms  total_bedrooms  \\\n",
            "0    -122.23     37.88                41.0        880.0           129.0   \n",
            "1    -122.22     37.86                21.0       7099.0          1106.0   \n",
            "2    -122.24     37.85                52.0       1467.0           190.0   \n",
            "3    -122.25     37.85                52.0       1274.0           235.0   \n",
            "4    -122.25     37.85                52.0       1627.0           280.0   \n",
            "\n",
            "   population  households  median_income  median_house_value ocean_proximity  \n",
            "0       322.0       126.0         8.3252            452600.0        NEAR BAY  \n",
            "1      2401.0      1138.0         8.3014            358500.0        NEAR BAY  \n",
            "2       496.0       177.0         7.2574            352100.0        NEAR BAY  \n",
            "3       558.0       219.0         5.6431            341300.0        NEAR BAY  \n",
            "4       565.0       259.0         3.8462            342200.0        NEAR BAY  \n"
          ]
        }
      ],
      "source": [
        "import pandas as pd\n",
        "data = pd.read_csv('/content/housing.csv')\n",
        "print(data.head())"
      ]
    },
    {
      "cell_type": "code",
      "source": [
        "dat=data.describe()\n",
        "print(dat)"
      ],
      "metadata": {
        "colab": {
          "base_uri": "https://localhost:8080/"
        },
        "id": "6VTFWGPWAnP5",
        "outputId": "73e71355-7728-44b4-b276-0923e69bd2e2"
      },
      "execution_count": 5,
      "outputs": [
        {
          "output_type": "stream",
          "name": "stdout",
          "text": [
            "          longitude      latitude  housing_median_age   total_rooms  \\\n",
            "count  20640.000000  20640.000000        20640.000000  20640.000000   \n",
            "mean    -119.569704     35.631861           28.639486   2635.763081   \n",
            "std        2.003532      2.135952           12.585558   2181.615252   \n",
            "min     -124.350000     32.540000            1.000000      2.000000   \n",
            "25%     -121.800000     33.930000           18.000000   1447.750000   \n",
            "50%     -118.490000     34.260000           29.000000   2127.000000   \n",
            "75%     -118.010000     37.710000           37.000000   3148.000000   \n",
            "max     -114.310000     41.950000           52.000000  39320.000000   \n",
            "\n",
            "       total_bedrooms    population    households  median_income  \\\n",
            "count    20433.000000  20640.000000  20640.000000   20640.000000   \n",
            "mean       537.870553   1425.476744    499.539680       3.870671   \n",
            "std        421.385070   1132.462122    382.329753       1.899822   \n",
            "min          1.000000      3.000000      1.000000       0.499900   \n",
            "25%        296.000000    787.000000    280.000000       2.563400   \n",
            "50%        435.000000   1166.000000    409.000000       3.534800   \n",
            "75%        647.000000   1725.000000    605.000000       4.743250   \n",
            "max       6445.000000  35682.000000   6082.000000      15.000100   \n",
            "\n",
            "       median_house_value  \n",
            "count        20640.000000  \n",
            "mean        206855.816909  \n",
            "std         115395.615874  \n",
            "min          14999.000000  \n",
            "25%         119600.000000  \n",
            "50%         179700.000000  \n",
            "75%         264725.000000  \n",
            "max         500001.000000  \n"
          ]
        }
      ]
    },
    {
      "cell_type": "code",
      "source": [
        "dt=data.dtypes\n",
        "print(dt)\n",
        "shape=data.shape\n",
        "print('shpae=',shape)"
      ],
      "metadata": {
        "colab": {
          "base_uri": "https://localhost:8080/"
        },
        "id": "lZSkaAWkAtLm",
        "outputId": "9a3b9833-e99a-496e-dcae-9f91b49d2e09"
      },
      "execution_count": 6,
      "outputs": [
        {
          "output_type": "stream",
          "name": "stdout",
          "text": [
            "longitude             float64\n",
            "latitude              float64\n",
            "housing_median_age    float64\n",
            "total_rooms           float64\n",
            "total_bedrooms        float64\n",
            "population            float64\n",
            "households            float64\n",
            "median_income         float64\n",
            "median_house_value    float64\n",
            "ocean_proximity        object\n",
            "dtype: object\n",
            "shpae= (20640, 10)\n"
          ]
        }
      ]
    },
    {
      "cell_type": "code",
      "source": [
        "nullvalues=data.isnull()\n",
        "print(nullvalues)\n",
        "t_mean=data.fillna(0)\n",
        "print(t_mean)"
      ],
      "metadata": {
        "colab": {
          "base_uri": "https://localhost:8080/"
        },
        "id": "vxNjp88vA0pp",
        "outputId": "1708af5f-a2e6-435a-9b5a-7695dc899155"
      },
      "execution_count": 7,
      "outputs": [
        {
          "output_type": "stream",
          "name": "stdout",
          "text": [
            "       longitude  latitude  housing_median_age  total_rooms  total_bedrooms  \\\n",
            "0          False     False               False        False           False   \n",
            "1          False     False               False        False           False   \n",
            "2          False     False               False        False           False   \n",
            "3          False     False               False        False           False   \n",
            "4          False     False               False        False           False   \n",
            "...          ...       ...                 ...          ...             ...   \n",
            "20635      False     False               False        False           False   \n",
            "20636      False     False               False        False           False   \n",
            "20637      False     False               False        False           False   \n",
            "20638      False     False               False        False           False   \n",
            "20639      False     False               False        False           False   \n",
            "\n",
            "       population  households  median_income  median_house_value  \\\n",
            "0           False       False          False               False   \n",
            "1           False       False          False               False   \n",
            "2           False       False          False               False   \n",
            "3           False       False          False               False   \n",
            "4           False       False          False               False   \n",
            "...           ...         ...            ...                 ...   \n",
            "20635       False       False          False               False   \n",
            "20636       False       False          False               False   \n",
            "20637       False       False          False               False   \n",
            "20638       False       False          False               False   \n",
            "20639       False       False          False               False   \n",
            "\n",
            "       ocean_proximity  \n",
            "0                False  \n",
            "1                False  \n",
            "2                False  \n",
            "3                False  \n",
            "4                False  \n",
            "...                ...  \n",
            "20635            False  \n",
            "20636            False  \n",
            "20637            False  \n",
            "20638            False  \n",
            "20639            False  \n",
            "\n",
            "[20640 rows x 10 columns]\n",
            "       longitude  latitude  housing_median_age  total_rooms  total_bedrooms  \\\n",
            "0        -122.23     37.88                41.0        880.0           129.0   \n",
            "1        -122.22     37.86                21.0       7099.0          1106.0   \n",
            "2        -122.24     37.85                52.0       1467.0           190.0   \n",
            "3        -122.25     37.85                52.0       1274.0           235.0   \n",
            "4        -122.25     37.85                52.0       1627.0           280.0   \n",
            "...          ...       ...                 ...          ...             ...   \n",
            "20635    -121.09     39.48                25.0       1665.0           374.0   \n",
            "20636    -121.21     39.49                18.0        697.0           150.0   \n",
            "20637    -121.22     39.43                17.0       2254.0           485.0   \n",
            "20638    -121.32     39.43                18.0       1860.0           409.0   \n",
            "20639    -121.24     39.37                16.0       2785.0           616.0   \n",
            "\n",
            "       population  households  median_income  median_house_value  \\\n",
            "0           322.0       126.0         8.3252            452600.0   \n",
            "1          2401.0      1138.0         8.3014            358500.0   \n",
            "2           496.0       177.0         7.2574            352100.0   \n",
            "3           558.0       219.0         5.6431            341300.0   \n",
            "4           565.0       259.0         3.8462            342200.0   \n",
            "...           ...         ...            ...                 ...   \n",
            "20635       845.0       330.0         1.5603             78100.0   \n",
            "20636       356.0       114.0         2.5568             77100.0   \n",
            "20637      1007.0       433.0         1.7000             92300.0   \n",
            "20638       741.0       349.0         1.8672             84700.0   \n",
            "20639      1387.0       530.0         2.3886             89400.0   \n",
            "\n",
            "      ocean_proximity  \n",
            "0            NEAR BAY  \n",
            "1            NEAR BAY  \n",
            "2            NEAR BAY  \n",
            "3            NEAR BAY  \n",
            "4            NEAR BAY  \n",
            "...               ...  \n",
            "20635          INLAND  \n",
            "20636          INLAND  \n",
            "20637          INLAND  \n",
            "20638          INLAND  \n",
            "20639          INLAND  \n",
            "\n",
            "[20640 rows x 10 columns]\n"
          ]
        }
      ]
    },
    {
      "cell_type": "code",
      "source": [
        "X = data.drop(columns=[\"ocean_proximity\"])\n",
        "y = data[\"ocean_proximity\"]\n",
        "\n",
        "print(\"Features (X):\\n\", X.head())\n",
        "print(\"\\nTarget (y):\\n\", y.head())"
      ],
      "metadata": {
        "colab": {
          "base_uri": "https://localhost:8080/"
        },
        "id": "IhxMsq4-A27l",
        "outputId": "47ad77ae-d7fa-43d4-b0f6-4f908b44f106"
      },
      "execution_count": 8,
      "outputs": [
        {
          "output_type": "stream",
          "name": "stdout",
          "text": [
            "Features (X):\n",
            "    longitude  latitude  housing_median_age  total_rooms  total_bedrooms  \\\n",
            "0    -122.23     37.88                41.0        880.0           129.0   \n",
            "1    -122.22     37.86                21.0       7099.0          1106.0   \n",
            "2    -122.24     37.85                52.0       1467.0           190.0   \n",
            "3    -122.25     37.85                52.0       1274.0           235.0   \n",
            "4    -122.25     37.85                52.0       1627.0           280.0   \n",
            "\n",
            "   population  households  median_income  median_house_value  \n",
            "0       322.0       126.0         8.3252            452600.0  \n",
            "1      2401.0      1138.0         8.3014            358500.0  \n",
            "2       496.0       177.0         7.2574            352100.0  \n",
            "3       558.0       219.0         5.6431            341300.0  \n",
            "4       565.0       259.0         3.8462            342200.0  \n",
            "\n",
            "Target (y):\n",
            " 0    NEAR BAY\n",
            "1    NEAR BAY\n",
            "2    NEAR BAY\n",
            "3    NEAR BAY\n",
            "4    NEAR BAY\n",
            "Name: ocean_proximity, dtype: object\n"
          ]
        }
      ]
    },
    {
      "cell_type": "code",
      "source": [
        "from sklearn.model_selection import train_test_split\n",
        "\n",
        "X_train, X_test, y_train, y_test = train_test_split(X, y, test_size=0.2, random_state=0)\n",
        "\n",
        "print(\"Train set shape:\", X_train.shape)\n",
        "print(\"Test set shape:\", X_test.shape)"
      ],
      "metadata": {
        "colab": {
          "base_uri": "https://localhost:8080/"
        },
        "id": "Ja7-57zWBarc",
        "outputId": "7da5e7eb-436c-4f91-fa96-2237c7bb27bb"
      },
      "execution_count": 9,
      "outputs": [
        {
          "output_type": "stream",
          "name": "stdout",
          "text": [
            "Train set shape: (16512, 9)\n",
            "Test set shape: (4128, 9)\n"
          ]
        }
      ]
    },
    {
      "cell_type": "code",
      "source": [
        "import pandas as pd\n",
        "from sklearn.preprocessing import MinMaxScaler\n",
        "\n",
        "data['ocean_proximity'] = data['ocean_proximity'].replace('NEAR BAY', float('nan'))\n",
        "data['ocean_proximity'] = pd.to_numeric(data['ocean_proximity'], errors='coerce')\n",
        "\n",
        "scaler = MinMaxScaler()\n",
        "t_scaled = pd.DataFrame(scaler.fit_transform(data), columns=data.columns)\n",
        "print(t_scaled)\n"
      ],
      "metadata": {
        "colab": {
          "base_uri": "https://localhost:8080/"
        },
        "id": "pugyPMwpBgQS",
        "outputId": "428524a9-2db9-4892-f499-7bdd0d080f4a"
      },
      "execution_count": 14,
      "outputs": [
        {
          "output_type": "stream",
          "name": "stdout",
          "text": [
            "       longitude  latitude  housing_median_age  total_rooms  total_bedrooms  \\\n",
            "0       0.211155  0.567481            0.784314     0.022331        0.019863   \n",
            "1       0.212151  0.565356            0.392157     0.180503        0.171477   \n",
            "2       0.210159  0.564293            1.000000     0.037260        0.029330   \n",
            "3       0.209163  0.564293            1.000000     0.032352        0.036313   \n",
            "4       0.209163  0.564293            1.000000     0.041330        0.043296   \n",
            "...          ...       ...                 ...          ...             ...   \n",
            "20635   0.324701  0.737513            0.470588     0.042296        0.057883   \n",
            "20636   0.312749  0.738576            0.333333     0.017676        0.023122   \n",
            "20637   0.311753  0.732200            0.313725     0.057277        0.075109   \n",
            "20638   0.301793  0.732200            0.333333     0.047256        0.063315   \n",
            "20639   0.309761  0.725824            0.294118     0.070782        0.095438   \n",
            "\n",
            "       population  households  median_income  median_house_value  \\\n",
            "0        0.008941    0.020556       0.539668            0.902266   \n",
            "1        0.067210    0.186976       0.538027            0.708247   \n",
            "2        0.013818    0.028943       0.466028            0.695051   \n",
            "3        0.015555    0.035849       0.354699            0.672783   \n",
            "4        0.015752    0.042427       0.230776            0.674638   \n",
            "...           ...         ...            ...                 ...   \n",
            "20635    0.023599    0.054103       0.073130            0.130105   \n",
            "20636    0.009894    0.018582       0.141853            0.128043   \n",
            "20637    0.028140    0.071041       0.082764            0.159383   \n",
            "20638    0.020684    0.057227       0.094295            0.143713   \n",
            "20639    0.038790    0.086992       0.130253            0.153403   \n",
            "\n",
            "       ocean_proximity  \n",
            "0                  NaN  \n",
            "1                  NaN  \n",
            "2                  NaN  \n",
            "3                  NaN  \n",
            "4                  NaN  \n",
            "...                ...  \n",
            "20635              NaN  \n",
            "20636              NaN  \n",
            "20637              NaN  \n",
            "20638              NaN  \n",
            "20639              NaN  \n",
            "\n",
            "[20640 rows x 10 columns]\n"
          ]
        },
        {
          "output_type": "stream",
          "name": "stderr",
          "text": [
            "/usr/local/lib/python3.10/dist-packages/sklearn/preprocessing/_data.py:473: RuntimeWarning: All-NaN slice encountered\n",
            "  data_min = np.nanmin(X, axis=0)\n",
            "/usr/local/lib/python3.10/dist-packages/sklearn/preprocessing/_data.py:474: RuntimeWarning: All-NaN slice encountered\n",
            "  data_max = np.nanmax(X, axis=0)\n"
          ]
        }
      ]
    }
  ]
}