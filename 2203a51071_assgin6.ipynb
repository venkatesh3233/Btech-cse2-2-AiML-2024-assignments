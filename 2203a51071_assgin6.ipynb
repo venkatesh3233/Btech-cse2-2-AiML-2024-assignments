{
  "nbformat": 4,
  "nbformat_minor": 0,
  "metadata": {
    "colab": {
      "provenance": [],
      "toc_visible": true
    },
    "kernelspec": {
      "name": "python3",
      "display_name": "Python 3"
    },
    "language_info": {
      "name": "python"
    }
  },
  "cells": [
    {
      "cell_type": "code",
      "execution_count": 1,
      "metadata": {
        "id": "SE1e3Ow_QDv2"
      },
      "outputs": [],
      "source": [
        "import pandas as pd"
      ]
    },
    {
      "cell_type": "code",
      "source": [
        "train=pd.read_csv('/content/train.csv')\n",
        "print(train.describe())"
      ],
      "metadata": {
        "colab": {
          "base_uri": "https://localhost:8080/"
        },
        "id": "Uv0DCEmEQ9YH",
        "outputId": "05669581-0a4e-496e-9b08-641be2997f49"
      },
      "execution_count": 2,
      "outputs": [
        {
          "output_type": "stream",
          "name": "stdout",
          "text": [
            "       battery_power       blue  clock_speed     dual_sim           fc  \\\n",
            "count    2000.000000  2000.0000  2000.000000  2000.000000  2000.000000   \n",
            "mean     1238.518500     0.4950     1.522250     0.509500     4.309500   \n",
            "std       439.418206     0.5001     0.816004     0.500035     4.341444   \n",
            "min       501.000000     0.0000     0.500000     0.000000     0.000000   \n",
            "25%       851.750000     0.0000     0.700000     0.000000     1.000000   \n",
            "50%      1226.000000     0.0000     1.500000     1.000000     3.000000   \n",
            "75%      1615.250000     1.0000     2.200000     1.000000     7.000000   \n",
            "max      1998.000000     1.0000     3.000000     1.000000    19.000000   \n",
            "\n",
            "            four_g   int_memory        m_dep    mobile_wt      n_cores  ...  \\\n",
            "count  2000.000000  2000.000000  2000.000000  2000.000000  2000.000000  ...   \n",
            "mean      0.521500    32.046500     0.501750   140.249000     4.520500  ...   \n",
            "std       0.499662    18.145715     0.288416    35.399655     2.287837  ...   \n",
            "min       0.000000     2.000000     0.100000    80.000000     1.000000  ...   \n",
            "25%       0.000000    16.000000     0.200000   109.000000     3.000000  ...   \n",
            "50%       1.000000    32.000000     0.500000   141.000000     4.000000  ...   \n",
            "75%       1.000000    48.000000     0.800000   170.000000     7.000000  ...   \n",
            "max       1.000000    64.000000     1.000000   200.000000     8.000000  ...   \n",
            "\n",
            "         px_height     px_width          ram         sc_h         sc_w  \\\n",
            "count  2000.000000  2000.000000  2000.000000  2000.000000  2000.000000   \n",
            "mean    645.108000  1251.515500  2124.213000    12.306500     5.767000   \n",
            "std     443.780811   432.199447  1084.732044     4.213245     4.356398   \n",
            "min       0.000000   500.000000   256.000000     5.000000     0.000000   \n",
            "25%     282.750000   874.750000  1207.500000     9.000000     2.000000   \n",
            "50%     564.000000  1247.000000  2146.500000    12.000000     5.000000   \n",
            "75%     947.250000  1633.000000  3064.500000    16.000000     9.000000   \n",
            "max    1960.000000  1998.000000  3998.000000    19.000000    18.000000   \n",
            "\n",
            "         talk_time      three_g  touch_screen         wifi  price_range  \n",
            "count  2000.000000  2000.000000   2000.000000  2000.000000  2000.000000  \n",
            "mean     11.011000     0.761500      0.503000     0.507000     1.500000  \n",
            "std       5.463955     0.426273      0.500116     0.500076     1.118314  \n",
            "min       2.000000     0.000000      0.000000     0.000000     0.000000  \n",
            "25%       6.000000     1.000000      0.000000     0.000000     0.750000  \n",
            "50%      11.000000     1.000000      1.000000     1.000000     1.500000  \n",
            "75%      16.000000     1.000000      1.000000     1.000000     2.250000  \n",
            "max      20.000000     1.000000      1.000000     1.000000     3.000000  \n",
            "\n",
            "[8 rows x 21 columns]\n"
          ]
        }
      ]
    },
    {
      "cell_type": "code",
      "source": [
        "train.info()"
      ],
      "metadata": {
        "colab": {
          "base_uri": "https://localhost:8080/"
        },
        "id": "xVajTn1lRKRB",
        "outputId": "f601837b-5d90-4764-f74a-5512e15db18d"
      },
      "execution_count": 3,
      "outputs": [
        {
          "output_type": "stream",
          "name": "stdout",
          "text": [
            "<class 'pandas.core.frame.DataFrame'>\n",
            "RangeIndex: 2000 entries, 0 to 1999\n",
            "Data columns (total 21 columns):\n",
            " #   Column         Non-Null Count  Dtype  \n",
            "---  ------         --------------  -----  \n",
            " 0   battery_power  2000 non-null   int64  \n",
            " 1   blue           2000 non-null   int64  \n",
            " 2   clock_speed    2000 non-null   float64\n",
            " 3   dual_sim       2000 non-null   int64  \n",
            " 4   fc             2000 non-null   int64  \n",
            " 5   four_g         2000 non-null   int64  \n",
            " 6   int_memory     2000 non-null   int64  \n",
            " 7   m_dep          2000 non-null   float64\n",
            " 8   mobile_wt      2000 non-null   int64  \n",
            " 9   n_cores        2000 non-null   int64  \n",
            " 10  pc             2000 non-null   int64  \n",
            " 11  px_height      2000 non-null   int64  \n",
            " 12  px_width       2000 non-null   int64  \n",
            " 13  ram            2000 non-null   int64  \n",
            " 14  sc_h           2000 non-null   int64  \n",
            " 15  sc_w           2000 non-null   int64  \n",
            " 16  talk_time      2000 non-null   int64  \n",
            " 17  three_g        2000 non-null   int64  \n",
            " 18  touch_screen   2000 non-null   int64  \n",
            " 19  wifi           2000 non-null   int64  \n",
            " 20  price_range    2000 non-null   int64  \n",
            "dtypes: float64(2), int64(19)\n",
            "memory usage: 328.2 KB\n"
          ]
        }
      ]
    },
    {
      "cell_type": "code",
      "source": [
        "print(train.isnull().sum())"
      ],
      "metadata": {
        "colab": {
          "base_uri": "https://localhost:8080/"
        },
        "id": "CXavEqq-Rbs6",
        "outputId": "5537cd30-b692-44be-9e31-db88c3f09a39"
      },
      "execution_count": 4,
      "outputs": [
        {
          "output_type": "stream",
          "name": "stdout",
          "text": [
            "battery_power    0\n",
            "blue             0\n",
            "clock_speed      0\n",
            "dual_sim         0\n",
            "fc               0\n",
            "four_g           0\n",
            "int_memory       0\n",
            "m_dep            0\n",
            "mobile_wt        0\n",
            "n_cores          0\n",
            "pc               0\n",
            "px_height        0\n",
            "px_width         0\n",
            "ram              0\n",
            "sc_h             0\n",
            "sc_w             0\n",
            "talk_time        0\n",
            "three_g          0\n",
            "touch_screen     0\n",
            "wifi             0\n",
            "price_range      0\n",
            "dtype: int64\n"
          ]
        }
      ]
    },
    {
      "cell_type": "code",
      "source": [
        "from sklearn.preprocessing import MinMaxScaler"
      ],
      "metadata": {
        "id": "QWw9mDBXRhxT"
      },
      "execution_count": 5,
      "outputs": []
    },
    {
      "cell_type": "code",
      "source": [
        "d=MinMaxScaler()"
      ],
      "metadata": {
        "id": "gSmmrXT5RpKF"
      },
      "execution_count": 6,
      "outputs": []
    },
    {
      "cell_type": "code",
      "source": [
        "y=train['price_range']\n",
        "x=train.drop('price_range',axis=1)\n",
        "print(x)\n",
        "print(y)"
      ],
      "metadata": {
        "colab": {
          "base_uri": "https://localhost:8080/"
        },
        "id": "2XeBIJmTRuDF",
        "outputId": "40d44b66-fb7b-4754-9f23-53726c462036"
      },
      "execution_count": 7,
      "outputs": [
        {
          "output_type": "stream",
          "name": "stdout",
          "text": [
            "      battery_power  blue  clock_speed  dual_sim  fc  four_g  int_memory  \\\n",
            "0               842     0          2.2         0   1       0           7   \n",
            "1              1021     1          0.5         1   0       1          53   \n",
            "2               563     1          0.5         1   2       1          41   \n",
            "3               615     1          2.5         0   0       0          10   \n",
            "4              1821     1          1.2         0  13       1          44   \n",
            "...             ...   ...          ...       ...  ..     ...         ...   \n",
            "1995            794     1          0.5         1   0       1           2   \n",
            "1996           1965     1          2.6         1   0       0          39   \n",
            "1997           1911     0          0.9         1   1       1          36   \n",
            "1998           1512     0          0.9         0   4       1          46   \n",
            "1999            510     1          2.0         1   5       1          45   \n",
            "\n",
            "      m_dep  mobile_wt  n_cores  pc  px_height  px_width   ram  sc_h  sc_w  \\\n",
            "0       0.6        188        2   2         20       756  2549     9     7   \n",
            "1       0.7        136        3   6        905      1988  2631    17     3   \n",
            "2       0.9        145        5   6       1263      1716  2603    11     2   \n",
            "3       0.8        131        6   9       1216      1786  2769    16     8   \n",
            "4       0.6        141        2  14       1208      1212  1411     8     2   \n",
            "...     ...        ...      ...  ..        ...       ...   ...   ...   ...   \n",
            "1995    0.8        106        6  14       1222      1890   668    13     4   \n",
            "1996    0.2        187        4   3        915      1965  2032    11    10   \n",
            "1997    0.7        108        8   3        868      1632  3057     9     1   \n",
            "1998    0.1        145        5   5        336       670   869    18    10   \n",
            "1999    0.9        168        6  16        483       754  3919    19     4   \n",
            "\n",
            "      talk_time  three_g  touch_screen  wifi  \n",
            "0            19        0             0     1  \n",
            "1             7        1             1     0  \n",
            "2             9        1             1     0  \n",
            "3            11        1             0     0  \n",
            "4            15        1             1     0  \n",
            "...         ...      ...           ...   ...  \n",
            "1995         19        1             1     0  \n",
            "1996         16        1             1     1  \n",
            "1997          5        1             1     0  \n",
            "1998         19        1             1     1  \n",
            "1999          2        1             1     1  \n",
            "\n",
            "[2000 rows x 20 columns]\n",
            "0       1\n",
            "1       2\n",
            "2       2\n",
            "3       2\n",
            "4       1\n",
            "       ..\n",
            "1995    0\n",
            "1996    2\n",
            "1997    3\n",
            "1998    0\n",
            "1999    3\n",
            "Name: price_range, Length: 2000, dtype: int64\n"
          ]
        }
      ]
    },
    {
      "cell_type": "code",
      "source": [
        "from sklearn.model_selection import train_test_split"
      ],
      "metadata": {
        "id": "09b28vd_R1rX"
      },
      "execution_count": 8,
      "outputs": []
    },
    {
      "cell_type": "code",
      "source": [
        "x_train,x_test,y_train,y_test=train_test_split(x,y,test_size=0.30,random_state=40)"
      ],
      "metadata": {
        "id": "035mQElaR5dZ"
      },
      "execution_count": 23,
      "outputs": []
    },
    {
      "cell_type": "code",
      "source": [
        "print(x_train)"
      ],
      "metadata": {
        "colab": {
          "base_uri": "https://localhost:8080/"
        },
        "id": "MKJp2bNER9t9",
        "outputId": "082e6409-12b0-46d2-ba34-aceb58d3c0a5"
      },
      "execution_count": 24,
      "outputs": [
        {
          "output_type": "stream",
          "name": "stdout",
          "text": [
            "      battery_power  blue  clock_speed  dual_sim  fc  four_g  int_memory  \\\n",
            "993             686     1          0.5         0  11       0           3   \n",
            "1156           1732     0          0.8         0   2       0          61   \n",
            "615             880     0          0.5         1   1       0          44   \n",
            "703            1413     0          0.5         1   4       1          39   \n",
            "1130           1975     1          1.9         1   2       0          31   \n",
            "...             ...   ...          ...       ...  ..     ...         ...   \n",
            "1016            551     1          2.8         0   0       1          54   \n",
            "165             517     0          1.4         1   3       1          33   \n",
            "7              1954     0          0.5         1   0       0          24   \n",
            "219            1551     0          1.1         0   4       0          51   \n",
            "1350           1398     0          1.6         1   8       1          26   \n",
            "\n",
            "      m_dep  mobile_wt  n_cores  pc  px_height  px_width   ram  sc_h  sc_w  \\\n",
            "993     0.3         91        6  15       1109      1392   570     7     6   \n",
            "1156    0.3        172        5   3        201       656  3940    17    11   \n",
            "615     0.5        172        8  15        436      1302  3132     8     7   \n",
            "703     0.1        185        5  12       1039      1318  3878    19    16   \n",
            "1130    0.9        151        1  17        775      1607  3022    13     5   \n",
            "...     ...        ...      ...  ..        ...       ...   ...   ...   ...   \n",
            "1016    0.1        172        7  15        169      1916  1414     6     1   \n",
            "165     0.8        183        4   8        660       974  3704    17    16   \n",
            "7       0.8        187        4   0        512      1149   700    16     3   \n",
            "219     0.1         88        5   6       1738      1995  3844    11     8   \n",
            "1350    0.8        150        1  12        755      1284  3488    14     3   \n",
            "\n",
            "      talk_time  three_g  touch_screen  wifi  \n",
            "993          19        0             1     0  \n",
            "1156         20        0             1     1  \n",
            "615           6        0             1     1  \n",
            "703           4        1             0     0  \n",
            "1130         19        0             0     1  \n",
            "...         ...      ...           ...   ...  \n",
            "1016         19        1             0     1  \n",
            "165          11        1             0     1  \n",
            "7             5        1             1     1  \n",
            "219           4        0             1     0  \n",
            "1350         11        1             1     0  \n",
            "\n",
            "[1400 rows x 20 columns]\n"
          ]
        }
      ]
    },
    {
      "cell_type": "code",
      "source": [
        "print(x_test)"
      ],
      "metadata": {
        "colab": {
          "base_uri": "https://localhost:8080/"
        },
        "id": "qHMdN31YSDQW",
        "outputId": "2f030158-74fa-4e17-f9d1-884c612f6da2"
      },
      "execution_count": 25,
      "outputs": [
        {
          "output_type": "stream",
          "name": "stdout",
          "text": [
            "      battery_power  blue  clock_speed  dual_sim  fc  four_g  int_memory  \\\n",
            "423            1681     1          2.5         0   2       0          11   \n",
            "1495           1472     0          3.0         0   4       1          20   \n",
            "1618            502     0          0.8         0   7       0          52   \n",
            "1099           1697     0          0.5         0   0       1          60   \n",
            "1307            831     0          1.7         1   7       1          26   \n",
            "...             ...   ...          ...       ...  ..     ...         ...   \n",
            "14             1866     0          0.5         0  13       1          52   \n",
            "282            1839     1          1.2         0   9       1          54   \n",
            "952            1444     1          2.1         0   9       0          38   \n",
            "1079           1893     1          0.5         1   1       0          23   \n",
            "486            1089     1          0.9         1  12       1           2   \n",
            "\n",
            "      m_dep  mobile_wt  n_cores  pc  px_height  px_width   ram  sc_h  sc_w  \\\n",
            "423     0.4        158        2  13        195      1205  1122    12     6   \n",
            "1495    0.3        169        2   6        443       892   797     6     1   \n",
            "1618    1.0         82        6   8        281      1159  2666     5     4   \n",
            "1099    0.1         90        4   0         88      1046   441    15     1   \n",
            "1307    0.7        177        5  11        511       621  1704     6     5   \n",
            "...     ...        ...      ...  ..        ...       ...   ...   ...   ...   \n",
            "14      0.7        185        1  17        356       563   373    14     9   \n",
            "282     0.5        200        7  11        475      1493   927    19    10   \n",
            "952     0.4        104        7  16        624       917  3764    14     9   \n",
            "1079    0.1        179        8   3       1203      1432  1482    15     7   \n",
            "486     0.7        145        5  15        636      1259  2765    13    12   \n",
            "\n",
            "      talk_time  three_g  touch_screen  wifi  \n",
            "423          16        0             1     1  \n",
            "1495         11        1             1     0  \n",
            "1618         20        1             1     0  \n",
            "1099         11        1             1     0  \n",
            "1307         20        1             1     1  \n",
            "...         ...      ...           ...   ...  \n",
            "14            3        1             0     1  \n",
            "282          18        1             0     1  \n",
            "952          10        0             0     0  \n",
            "1079         17        0             1     0  \n",
            "486          10        1             0     1  \n",
            "\n",
            "[600 rows x 20 columns]\n"
          ]
        }
      ]
    },
    {
      "cell_type": "code",
      "source": [
        "print(y_test)"
      ],
      "metadata": {
        "colab": {
          "base_uri": "https://localhost:8080/"
        },
        "id": "dfPCScnSSIh5",
        "outputId": "3e9e4419-5925-4272-a4f0-66d187061025"
      },
      "execution_count": 26,
      "outputs": [
        {
          "output_type": "stream",
          "name": "stdout",
          "text": [
            "423     0\n",
            "1495    0\n",
            "1618    2\n",
            "1099    0\n",
            "1307    0\n",
            "       ..\n",
            "14      0\n",
            "282     1\n",
            "952     3\n",
            "1079    2\n",
            "486     2\n",
            "Name: price_range, Length: 600, dtype: int64\n"
          ]
        }
      ]
    },
    {
      "cell_type": "code",
      "source": [
        "print(y_train)"
      ],
      "metadata": {
        "colab": {
          "base_uri": "https://localhost:8080/"
        },
        "id": "mTzU9sPkSMPs",
        "outputId": "451a4e8c-b73c-4fef-a8af-422ef0142a40"
      },
      "execution_count": 27,
      "outputs": [
        {
          "output_type": "stream",
          "name": "stdout",
          "text": [
            "993     0\n",
            "1156    3\n",
            "615     2\n",
            "703     3\n",
            "1130    3\n",
            "       ..\n",
            "1016    0\n",
            "165     3\n",
            "7       0\n",
            "219     3\n",
            "1350    3\n",
            "Name: price_range, Length: 1400, dtype: int64\n"
          ]
        }
      ]
    },
    {
      "cell_type": "code",
      "source": [
        "from sklearn.preprocessing import StandardScaler\n"
      ],
      "metadata": {
        "id": "-VXTjlzsTnCL"
      },
      "execution_count": 28,
      "outputs": []
    },
    {
      "cell_type": "code",
      "source": [
        "scaler = StandardScaler()\n",
        "x_train_scaled = scaler.fit_transform(x_train)\n",
        "x_test_scaled = scaler.transform(x_test)\n",
        "\n"
      ],
      "metadata": {
        "id": "4aq3RTWtTrNl"
      },
      "execution_count": 31,
      "outputs": []
    },
    {
      "cell_type": "code",
      "source": [
        "from sklearn.linear_model import LogisticRegression"
      ],
      "metadata": {
        "id": "Ew6IMZfZVCJu"
      },
      "execution_count": 32,
      "outputs": []
    },
    {
      "cell_type": "code",
      "source": [
        "model=LogisticRegression()\n",
        "model.fit(x_train_scaled,y_train)"
      ],
      "metadata": {
        "colab": {
          "base_uri": "https://localhost:8080/",
          "height": 75
        },
        "id": "_I4b_OrFVNxf",
        "outputId": "7af622ee-1c2f-4ec4-da0e-f518cdc99039"
      },
      "execution_count": 37,
      "outputs": [
        {
          "output_type": "execute_result",
          "data": {
            "text/plain": [
              "LogisticRegression()"
            ],
            "text/html": [
              "<style>#sk-container-id-2 {color: black;background-color: white;}#sk-container-id-2 pre{padding: 0;}#sk-container-id-2 div.sk-toggleable {background-color: white;}#sk-container-id-2 label.sk-toggleable__label {cursor: pointer;display: block;width: 100%;margin-bottom: 0;padding: 0.3em;box-sizing: border-box;text-align: center;}#sk-container-id-2 label.sk-toggleable__label-arrow:before {content: \"▸\";float: left;margin-right: 0.25em;color: #696969;}#sk-container-id-2 label.sk-toggleable__label-arrow:hover:before {color: black;}#sk-container-id-2 div.sk-estimator:hover label.sk-toggleable__label-arrow:before {color: black;}#sk-container-id-2 div.sk-toggleable__content {max-height: 0;max-width: 0;overflow: hidden;text-align: left;background-color: #f0f8ff;}#sk-container-id-2 div.sk-toggleable__content pre {margin: 0.2em;color: black;border-radius: 0.25em;background-color: #f0f8ff;}#sk-container-id-2 input.sk-toggleable__control:checked~div.sk-toggleable__content {max-height: 200px;max-width: 100%;overflow: auto;}#sk-container-id-2 input.sk-toggleable__control:checked~label.sk-toggleable__label-arrow:before {content: \"▾\";}#sk-container-id-2 div.sk-estimator input.sk-toggleable__control:checked~label.sk-toggleable__label {background-color: #d4ebff;}#sk-container-id-2 div.sk-label input.sk-toggleable__control:checked~label.sk-toggleable__label {background-color: #d4ebff;}#sk-container-id-2 input.sk-hidden--visually {border: 0;clip: rect(1px 1px 1px 1px);clip: rect(1px, 1px, 1px, 1px);height: 1px;margin: -1px;overflow: hidden;padding: 0;position: absolute;width: 1px;}#sk-container-id-2 div.sk-estimator {font-family: monospace;background-color: #f0f8ff;border: 1px dotted black;border-radius: 0.25em;box-sizing: border-box;margin-bottom: 0.5em;}#sk-container-id-2 div.sk-estimator:hover {background-color: #d4ebff;}#sk-container-id-2 div.sk-parallel-item::after {content: \"\";width: 100%;border-bottom: 1px solid gray;flex-grow: 1;}#sk-container-id-2 div.sk-label:hover label.sk-toggleable__label {background-color: #d4ebff;}#sk-container-id-2 div.sk-serial::before {content: \"\";position: absolute;border-left: 1px solid gray;box-sizing: border-box;top: 0;bottom: 0;left: 50%;z-index: 0;}#sk-container-id-2 div.sk-serial {display: flex;flex-direction: column;align-items: center;background-color: white;padding-right: 0.2em;padding-left: 0.2em;position: relative;}#sk-container-id-2 div.sk-item {position: relative;z-index: 1;}#sk-container-id-2 div.sk-parallel {display: flex;align-items: stretch;justify-content: center;background-color: white;position: relative;}#sk-container-id-2 div.sk-item::before, #sk-container-id-2 div.sk-parallel-item::before {content: \"\";position: absolute;border-left: 1px solid gray;box-sizing: border-box;top: 0;bottom: 0;left: 50%;z-index: -1;}#sk-container-id-2 div.sk-parallel-item {display: flex;flex-direction: column;z-index: 1;position: relative;background-color: white;}#sk-container-id-2 div.sk-parallel-item:first-child::after {align-self: flex-end;width: 50%;}#sk-container-id-2 div.sk-parallel-item:last-child::after {align-self: flex-start;width: 50%;}#sk-container-id-2 div.sk-parallel-item:only-child::after {width: 0;}#sk-container-id-2 div.sk-dashed-wrapped {border: 1px dashed gray;margin: 0 0.4em 0.5em 0.4em;box-sizing: border-box;padding-bottom: 0.4em;background-color: white;}#sk-container-id-2 div.sk-label label {font-family: monospace;font-weight: bold;display: inline-block;line-height: 1.2em;}#sk-container-id-2 div.sk-label-container {text-align: center;}#sk-container-id-2 div.sk-container {/* jupyter's `normalize.less` sets `[hidden] { display: none; }` but bootstrap.min.css set `[hidden] { display: none !important; }` so we also need the `!important` here to be able to override the default hidden behavior on the sphinx rendered scikit-learn.org. See: https://github.com/scikit-learn/scikit-learn/issues/21755 */display: inline-block !important;position: relative;}#sk-container-id-2 div.sk-text-repr-fallback {display: none;}</style><div id=\"sk-container-id-2\" class=\"sk-top-container\"><div class=\"sk-text-repr-fallback\"><pre>LogisticRegression()</pre><b>In a Jupyter environment, please rerun this cell to show the HTML representation or trust the notebook. <br />On GitHub, the HTML representation is unable to render, please try loading this page with nbviewer.org.</b></div><div class=\"sk-container\" hidden><div class=\"sk-item\"><div class=\"sk-estimator sk-toggleable\"><input class=\"sk-toggleable__control sk-hidden--visually\" id=\"sk-estimator-id-2\" type=\"checkbox\" checked><label for=\"sk-estimator-id-2\" class=\"sk-toggleable__label sk-toggleable__label-arrow\">LogisticRegression</label><div class=\"sk-toggleable__content\"><pre>LogisticRegression()</pre></div></div></div></div></div>"
            ]
          },
          "metadata": {},
          "execution_count": 37
        }
      ]
    },
    {
      "cell_type": "code",
      "source": [
        "yp=model.predict(x_test_scaled)\n"
      ],
      "metadata": {
        "id": "874cIlLgVuFS"
      },
      "execution_count": 40,
      "outputs": []
    },
    {
      "cell_type": "code",
      "source": [
        "from sklearn.metrics import accuracy_score, precision_score, recall_score, confusion_matrix"
      ],
      "metadata": {
        "id": "-Oxc4KXDV79r"
      },
      "execution_count": 39,
      "outputs": []
    },
    {
      "cell_type": "code",
      "source": [
        "accuracy=accuracy_score(y_test,yp)\n",
        "print(accuracy)\n"
      ],
      "metadata": {
        "colab": {
          "base_uri": "https://localhost:8080/"
        },
        "id": "MG3WxJgBV-Mj",
        "outputId": "2145e2fd-3120-4d66-d2dc-12e86261d6dd"
      },
      "execution_count": 42,
      "outputs": [
        {
          "output_type": "stream",
          "name": "stdout",
          "text": [
            "0.95\n"
          ]
        }
      ]
    },
    {
      "cell_type": "code",
      "source": [
        "precision=precision_score(y_test,yp,average='weighted')\n",
        "print(precision)"
      ],
      "metadata": {
        "colab": {
          "base_uri": "https://localhost:8080/"
        },
        "id": "L7FOYkuhWR8o",
        "outputId": "6288246a-cec6-4313-fb65-a76175f6b508"
      },
      "execution_count": 45,
      "outputs": [
        {
          "output_type": "stream",
          "name": "stdout",
          "text": [
            "0.9499290394431786\n"
          ]
        }
      ]
    },
    {
      "cell_type": "code",
      "source": [
        "recall=recall_score(y_test,yp,average='weighted')\n",
        "print(recall)"
      ],
      "metadata": {
        "colab": {
          "base_uri": "https://localhost:8080/"
        },
        "id": "CZ2Vt01YW3_S",
        "outputId": "18dc9bcf-4444-479c-b2a0-eea03ae5a3eb"
      },
      "execution_count": 47,
      "outputs": [
        {
          "output_type": "stream",
          "name": "stdout",
          "text": [
            "0.95\n"
          ]
        }
      ]
    },
    {
      "cell_type": "code",
      "source": [
        "confusion=confusion_matrix(y_test,yp)\n",
        "print(confusion)"
      ],
      "metadata": {
        "colab": {
          "base_uri": "https://localhost:8080/"
        },
        "id": "vQsmOHNWXC-2",
        "outputId": "09fccfc0-92b4-446a-b2cf-2cb7656c18f8"
      },
      "execution_count": 49,
      "outputs": [
        {
          "output_type": "stream",
          "name": "stdout",
          "text": [
            "[[159   4   0   0]\n",
            " [  6 140   4   0]\n",
            " [  0   3 128   8]\n",
            " [  0   0   5 143]]\n"
          ]
        }
      ]
    }
  ]
}