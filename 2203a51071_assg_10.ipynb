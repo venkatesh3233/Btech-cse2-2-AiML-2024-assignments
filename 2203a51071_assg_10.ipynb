{
  "nbformat": 4,
  "nbformat_minor": 0,
  "metadata": {
    "colab": {
      "provenance": []
    },
    "kernelspec": {
      "name": "python3",
      "display_name": "Python 3"
    },
    "language_info": {
      "name": "python"
    }
  },
  "cells": [
    {
      "cell_type": "code",
      "execution_count": 2,
      "metadata": {
        "colab": {
          "base_uri": "https://localhost:8080/"
        },
        "id": "QoEi5cqOTh2p",
        "outputId": "fa049cae-011a-499b-ce6e-e73bd88582d7"
      },
      "outputs": [
        {
          "output_type": "stream",
          "name": "stdout",
          "text": [
            "   Age  Gender  Protein1  Protein2  Protein3  Protein4 Tumour_Stage  \\\n",
            "0   42  FEMALE   0.95256   2.15000  0.007972 -0.048340           II   \n",
            "1   54  FEMALE   0.00000   1.38020 -0.498030 -0.507320           II   \n",
            "2   63  FEMALE  -0.52303   1.76400 -0.370190  0.010815           II   \n",
            "3   78  FEMALE  -0.87618   0.12943 -0.370380  0.132190            I   \n",
            "4   42  FEMALE   0.22611   1.74910 -0.543970 -0.390210           II   \n",
            "\n",
            "                       Histology ER status PR status HER2 status Surgery_type  \\\n",
            "0  Infiltrating Ductal Carcinoma  Positive  Positive    Negative        Other   \n",
            "1  Infiltrating Ductal Carcinoma  Positive  Positive    Negative        Other   \n",
            "2  Infiltrating Ductal Carcinoma  Positive  Positive    Negative   Lumpectomy   \n",
            "3  Infiltrating Ductal Carcinoma  Positive  Positive    Negative        Other   \n",
            "4  Infiltrating Ductal Carcinoma  Positive  Positive    Positive   Lumpectomy   \n",
            "\n",
            "  Date_of_Surgery Date_of_Last_Visit Patient_Status  \n",
            "0       20-May-18          26-Aug-18          Alive  \n",
            "1       26-Apr-18          25-Jan-19           Dead  \n",
            "2       24-Aug-18          08-Apr-20          Alive  \n",
            "3       16-Nov-18          28-Jul-20          Alive  \n",
            "4       12-Dec-18          05-Jan-19          Alive  \n"
          ]
        }
      ],
      "source": [
        "import pandas as pd\n",
        "from sklearn.model_selection import train_test_split\n",
        "from sklearn.ensemble import RandomForestClassifier, AdaBoostClassifier\n",
        "from sklearn.metrics import accuracy_score, precision_score, recall_score, f1_score\n",
        "from sklearn.impute import SimpleImputer\n",
        "\n",
        "data = pd.read_csv(\"/content/breast_cancer_survival.csv\")\n",
        "print(data.head())"
      ]
    },
    {
      "cell_type": "code",
      "source": [
        "data = data.drop(['Histology', 'ER status', 'PR status', 'HER2 status', 'Surgery_type', 'Date_of_Surgery', 'Date_of_Last_Visit'], axis=1)\n",
        "\n",
        "data = pd.get_dummies(data, columns=['Gender', 'Tumour_Stage'])\n",
        "\n",
        "print(\"Missing Values:\")\n",
        "print(data.isna().sum())\n",
        "\n",
        "imputer = SimpleImputer(strategy='most_frequent')\n",
        "data_imputed = imputer.fit_transform(data)\n",
        "\n",
        "data_imputed = pd.DataFrame(data_imputed, columns=data.columns)\n",
        "\n",
        "X = data_imputed.drop(\"Patient_Status\", axis=1)\n",
        "y = data_imputed[\"Patient_Status\"].map({'Alive': 1, 'Dead': 0})"
      ],
      "metadata": {
        "colab": {
          "base_uri": "https://localhost:8080/"
        },
        "id": "UowehCSMiz-V",
        "outputId": "cea78ea0-7258-4c5e-930b-4cc15b029891"
      },
      "execution_count": 3,
      "outputs": [
        {
          "output_type": "stream",
          "name": "stdout",
          "text": [
            "Missing Values:\n",
            "Age                  0\n",
            "Protein1             0\n",
            "Protein2             0\n",
            "Protein3             0\n",
            "Protein4             0\n",
            "Patient_Status      13\n",
            "Gender_FEMALE        0\n",
            "Gender_MALE          0\n",
            "Tumour_Stage_I       0\n",
            "Tumour_Stage_II      0\n",
            "Tumour_Stage_III     0\n",
            "dtype: int64\n"
          ]
        }
      ]
    },
    {
      "cell_type": "code",
      "source": [
        "X_train, X_test, y_train, y_test = train_test_split(X, y, test_size=0.2, random_state=42)\n",
        "rf_model = RandomForestClassifier()\n",
        "rf_model.fit(X_train, y_train)\n",
        "ada_model = AdaBoostClassifier()\n",
        "ada_model.fit(X_train, y_train)\n",
        "rf_pred = rf_model.predict(X_test)\n",
        "ada_pred = ada_model.predict(X_test)\n",
        "rf_accuracy = accuracy_score(y_test, rf_pred)\n",
        "ada_accuracy = accuracy_score(y_test, ada_pred)\n",
        "rf_precision = precision_score(y_test, rf_pred)\n",
        "ada_precision = precision_score(y_test, ada_pred)\n",
        "rf_recall = recall_score(y_test, rf_pred)\n",
        "ada_recall = recall_score(y_test, ada_pred)\n",
        "rf_f1_score = f1_score(y_test, rf_pred)\n",
        "ada_f1_score = f1_score(y_test, ada_pred)\n",
        "print(\"Random Forest Metrics:\")\n",
        "print(\"Accuracy:\", rf_accuracy)\n",
        "print(\"Precision:\", rf_precision)\n",
        "print(\"Recall:\", rf_recall)\n",
        "print(\"F1 Score:\", rf_f1_score)\n",
        "print(\"\\nAdaBoost Metrics:\")\n",
        "print(\"Accuracy:\", ada_accuracy)\n",
        "print(\"Precision:\", ada_precision)\n",
        "print(\"Recall:\", ada_recall)\n",
        "print(\"F1 Score:\", ada_f1_score)"
      ],
      "metadata": {
        "colab": {
          "base_uri": "https://localhost:8080/"
        },
        "id": "f4kCABjvi5Ge",
        "outputId": "3d323cf4-56ca-4426-ef41-777e6900dd29"
      },
      "execution_count": 4,
      "outputs": [
        {
          "output_type": "stream",
          "name": "stdout",
          "text": [
            "Random Forest Metrics:\n",
            "Accuracy: 0.8059701492537313\n",
            "Precision: 0.8181818181818182\n",
            "Recall: 0.9818181818181818\n",
            "F1 Score: 0.8925619834710744\n",
            "\n",
            "AdaBoost Metrics:\n",
            "Accuracy: 0.7313432835820896\n",
            "Precision: 0.8135593220338984\n",
            "Recall: 0.8727272727272727\n",
            "F1 Score: 0.8421052631578948\n"
          ]
        }
      ]
    }
  ]
}